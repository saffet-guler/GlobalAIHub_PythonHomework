{
 "cells": [
  {
   "cell_type": "code",
   "execution_count": 1,
   "metadata": {},
   "outputs": [
    {
     "name": "stdout",
     "output_type": "stream",
     "text": [
      "Please enter your first name: Data\n",
      "Please enter your last name: Science\n",
      "Please enter your age: 15\n",
      "Please enter your birth year: 2005\n",
      "['Data', 'Science', 15, 2005]\n",
      "You can't go out because it's too dangerous\n"
     ]
    }
   ],
   "source": [
    "first_name = str(input(\"Please enter your first name: \"))\n",
    "last_name = str(input(\"Please enter your last name: \"))\n",
    "age = int(input(\"Please enter your age: \"))\n",
    "date_of_birth = int(input(\"Please enter your birth year: \"))\n",
    "\n",
    "my_list = [first_name,last_name,age,date_of_birth]\n",
    "\n",
    "for i in my_list:\n",
    "    my_list = [first_name,last_name,age,date_of_birth]\n",
    "print(my_list)\n",
    "\n",
    "if age < 18:\n",
    "    print(\"You can't go out because it's too dangerous\")\n",
    "else:\n",
    "    print(\"You can go out to the street\")"
   ]
  },
  {
   "cell_type": "code",
   "execution_count": null,
   "metadata": {},
   "outputs": [],
   "source": []
  }
 ],
 "metadata": {
  "kernelspec": {
   "display_name": "Python 3",
   "language": "python",
   "name": "python3"
  },
  "language_info": {
   "codemirror_mode": {
    "name": "ipython",
    "version": 3
   },
   "file_extension": ".py",
   "mimetype": "text/x-python",
   "name": "python",
   "nbconvert_exporter": "python",
   "pygments_lexer": "ipython3",
   "version": "3.7.6"
  }
 },
 "nbformat": 4,
 "nbformat_minor": 4
}
