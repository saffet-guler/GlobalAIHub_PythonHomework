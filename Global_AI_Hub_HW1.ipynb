{
 "cells": [
  {
   "cell_type": "code",
   "execution_count": 1,
   "metadata": {},
   "outputs": [
    {
     "name": "stdout",
     "output_type": "stream",
     "text": [
      "Please enter number: 1\n",
      "Please enter number: 1\n",
      "Please enter negative number: -1\n",
      "Please enter number: 1\n",
      "Please enter name or character: ada\n",
      "\n",
      "List of entered values: ['1', 1, -1, 1.0, 'ada']\n",
      "1 is of type <class 'str'>\n",
      "1 is of type <class 'int'>\n",
      "-1 is of type <class 'int'>\n",
      "1.0 is of type <class 'float'>\n",
      "ada is of type <class 'str'>\n"
     ]
    }
   ],
   "source": [
    "mylist = []\n",
    "a = input(\"Please enter number: \")\n",
    "mylist.append(a)\n",
    "\n",
    "b = int(input(\"Please enter number: \"))\n",
    "mylist.append(b)\n",
    "\n",
    "c = int(input(\"Please enter negative number: \"))\n",
    "mylist.append(c)\n",
    "\n",
    "d = float(input(\"Please enter number: \"))\n",
    "mylist.append(d)\n",
    "\n",
    "e = input(\"Please enter name or character: \")\n",
    "mylist.append(e)\n",
    "\n",
    "print('\\n'\"List of entered values: {}\".format(mylist)) \n",
    "\n",
    "for i in mylist[0:5]:\n",
    "    print(f'{i} is of type {type(i)}')"
   ]
  },
  {
   "cell_type": "code",
   "execution_count": null,
   "metadata": {},
   "outputs": [],
   "source": []
  }
 ],
 "metadata": {
  "kernelspec": {
   "display_name": "Python 3",
   "language": "python",
   "name": "python3"
  },
  "language_info": {
   "codemirror_mode": {
    "name": "ipython",
    "version": 3
   },
   "file_extension": ".py",
   "mimetype": "text/x-python",
   "name": "python",
   "nbconvert_exporter": "python",
   "pygments_lexer": "ipython3",
   "version": "3.7.6"
  }
 },
 "nbformat": 4,
 "nbformat_minor": 4
}
