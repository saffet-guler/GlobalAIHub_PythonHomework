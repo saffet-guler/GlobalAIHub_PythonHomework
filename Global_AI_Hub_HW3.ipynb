{
 "cells": [
  {
   "cell_type": "code",
   "execution_count": null,
   "metadata": {},
   "outputs": [],
   "source": [
    "import random\n",
    "\n",
    "words = [\"python\" , \"data\" , \"science\" , \"machine learning\" , \"artifical intelligence\" , \"big data\" , \"analyse\" , \"deep learning\" , \"deployment\"]\n",
    "word = random.choice(words)\n",
    "number_of_predictions = 5\n",
    "characters = [] # will add the letters entered by the user into this list and warn if the same letter is entered again\n",
    "x = len(word)\n",
    "z = list('_' * x)\n",
    "print(\"The word you can guess: \" + ' '.join(z), end='\\n')"
   ]
  },
  {
   "cell_type": "code",
   "execution_count": null,
   "metadata": {},
   "outputs": [],
   "source": [
    "while number_of_predictions > 0:\n",
    "    y = input(\"Please guess a character: \")\n",
    "    if y in characters:\n",
    "        print(\"Please don't guess the characters you guessed before\")\n",
    "        continue\n",
    "\n",
    "    elif len(y) > 1:\n",
    "        print(\"Please just enter one character\")\n",
    "        continue\n",
    "\n",
    "    elif y not in word:\n",
    "        number_of_predictions -= 1\n",
    "        print(\"wrong guess! You have {} guesses left.\".format(number_of_predictions))\n",
    "\n",
    "    else:\n",
    "        for i in range(len(word)):\n",
    "            if y == word[i]:\n",
    "                print(\"Correct Guess\")\n",
    "                z[i] = y\n",
    "                characters.append(y)\n",
    "        print(' '.join(z), end='\\n')\n",
    "        \n",
    "    answer = input(\"Do you want to guess the whole word? ['yes' or 'no'] : \")\n",
    "\n",
    "    if answer == \"yes\":\n",
    "        guess = input(\"You can guess the whole word: \")\n",
    "        if guess == word:\n",
    "            print(\"Congratulations, right guess.\")\n",
    "            break\n",
    "        else:\n",
    "            number_of_predictions -= 1\n",
    "            print(\"You guessed it wrong. You have {} guesses left.\".format(number_of_predictions))\n",
    "\n",
    "\n",
    "    if number_of_predictions == 0:\n",
    "        print(\"Your right to guess is over. You lost! The Man Hanged.\")\n",
    "        break"
   ]
  }
 ],
 "metadata": {
  "kernelspec": {
   "display_name": "Python 3",
   "language": "python",
   "name": "python3"
  },
  "language_info": {
   "codemirror_mode": {
    "name": "ipython",
    "version": 3
   },
   "file_extension": ".py",
   "mimetype": "text/x-python",
   "name": "python",
   "nbconvert_exporter": "python",
   "pygments_lexer": "ipython3",
   "version": "3.7.6"
  }
 },
 "nbformat": 4,
 "nbformat_minor": 4
}
